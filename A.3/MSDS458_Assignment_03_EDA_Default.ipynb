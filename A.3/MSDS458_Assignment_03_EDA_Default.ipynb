{
 "cells": [
  {
   "cell_type": "code",
   "execution_count": 1,
   "id": "caa12924",
   "metadata": {
    "id": "9d9VZa_T5ukm"
   },
   "outputs": [],
   "source": [
    "import datetime\n",
    "from packaging import version\n",
    "from collections import Counter\n",
    "import numpy as np\n",
    "import pandas as pd\n",
    "import time\n",
    "import os\n",
    "import re\n",
    "import string\n",
    "import statistics\n",
    "\n",
    "import matplotlib.pyplot as plt\n",
    "import matplotlib as mpl\n",
    "import seaborn as sns\n",
    "\n",
    "import nltk\n",
    "from nltk.corpus import stopwords\n",
    "\n",
    "from sklearn.metrics import confusion_matrix, classification_report\n",
    "from sklearn.preprocessing import StandardScaler\n",
    "from sklearn.decomposition import PCA\n",
    "from sklearn.manifold import TSNE\n",
    "from sklearn.ensemble import RandomForestClassifier\n",
    "from sklearn.metrics import mean_squared_error as MSE\n",
    "from sklearn.metrics import accuracy_score\n",
    "\n",
    "import tensorflow as tf\n",
    "from tensorflow import keras\n",
    "import tensorflow_datasets as tfds\n",
    "from tensorflow import keras\n",
    "from tensorflow.keras import layers\n",
    "import tensorflow.keras.backend as k"
   ]
  },
  {
   "cell_type": "code",
   "execution_count": 2,
   "id": "81630d9d",
   "metadata": {},
   "outputs": [],
   "source": [
    "%matplotlib inline\n",
    "np.set_printoptions(precision=3, suppress=True)"
   ]
  },
  {
   "cell_type": "code",
   "execution_count": 3,
   "id": "236d2df2",
   "metadata": {},
   "outputs": [
    {
     "data": {
      "text/html": [
       "<style>.container { width:80% !important; }</style>"
      ],
      "text/plain": [
       "<IPython.core.display.HTML object>"
      ]
     },
     "metadata": {},
     "output_type": "display_data"
    }
   ],
   "source": [
    "from IPython.display import display, HTML\n",
    "display(HTML(\"<style>.container { width:80% !important; }</style>\"))"
   ]
  },
  {
   "cell_type": "markdown",
   "id": "69efab9f",
   "metadata": {
    "id": "SNt8VbLK5ukp"
   },
   "source": [
    "### Verify TensorFlow version and Keras version"
   ]
  },
  {
   "cell_type": "code",
   "execution_count": 4,
   "id": "67659c04",
   "metadata": {
    "colab": {
     "base_uri": "https://localhost:8080/"
    },
    "id": "kujC9adr5ukq",
    "outputId": "75244880-7418-44a3-d748-0d0029628736"
   },
   "outputs": [
    {
     "name": "stdout",
     "output_type": "stream",
     "text": [
      "This notebook requires TensorFlow 2.0 or above\n",
      "TensorFlow version:  2.9.1\n"
     ]
    }
   ],
   "source": [
    "print(\"This notebook requires TensorFlow 2.0 or above\")\n",
    "print(\"TensorFlow version: \", tf.__version__)\n",
    "assert version.parse(tf.__version__).release[0] >=2"
   ]
  },
  {
   "cell_type": "code",
   "execution_count": 5,
   "id": "a09c5323",
   "metadata": {
    "colab": {
     "base_uri": "https://localhost:8080/"
    },
    "id": "UHdPTZRp5ukr",
    "outputId": "1f55a1e9-a77d-46e8-cba8-a380dffe2de1"
   },
   "outputs": [
    {
     "name": "stdout",
     "output_type": "stream",
     "text": [
      "Keras version:  2.9.0\n"
     ]
    }
   ],
   "source": [
    "print(\"Keras version: \", keras.__version__)"
   ]
  },
  {
   "cell_type": "code",
   "execution_count": 6,
   "id": "be88fe0e",
   "metadata": {},
   "outputs": [
    {
     "data": {
      "text/plain": [
       "[PhysicalDevice(name='/physical_device:GPU:0', device_type='GPU')]"
      ]
     },
     "execution_count": 6,
     "metadata": {},
     "output_type": "execute_result"
    }
   ],
   "source": [
    "from tensorflow.python.client import device_lib\n",
    "tf.config.list_physical_devices('GPU')"
   ]
  },
  {
   "cell_type": "code",
   "execution_count": 7,
   "id": "f082a7a6",
   "metadata": {},
   "outputs": [
    {
     "data": {
      "text/plain": [
       "[name: \"/device:CPU:0\"\n",
       " device_type: \"CPU\"\n",
       " memory_limit: 268435456\n",
       " locality {\n",
       " }\n",
       " incarnation: 15858409215515895968\n",
       " xla_global_id: -1,\n",
       " name: \"/device:GPU:0\"\n",
       " device_type: \"GPU\"\n",
       " memory_limit: 1296408576\n",
       " locality {\n",
       "   bus_id: 1\n",
       "   links {\n",
       "   }\n",
       " }\n",
       " incarnation: 2676779958913818792\n",
       " physical_device_desc: \"device: 0, name: NVIDIA GeForce RTX 3060 Ti, pci bus id: 0000:01:00.0, compute capability: 8.6\"\n",
       " xla_global_id: 416903419]"
      ]
     },
     "execution_count": 7,
     "metadata": {},
     "output_type": "execute_result"
    }
   ],
   "source": [
    "device_lib.list_local_devices()"
   ]
  },
  {
   "cell_type": "code",
   "execution_count": 8,
   "id": "fae80555",
   "metadata": {},
   "outputs": [
    {
     "data": {
      "text/plain": [
       "True"
      ]
     },
     "execution_count": 8,
     "metadata": {},
     "output_type": "execute_result"
    }
   ],
   "source": [
    "tf.test.is_built_with_cuda()"
   ]
  },
  {
   "cell_type": "code",
   "execution_count": 9,
   "id": "e7136aee",
   "metadata": {},
   "outputs": [],
   "source": [
    "# # register  ag_news_subset so that tfds.load doesn't generate a checksum (mismatch) error\n",
    "# !python -m tensorflow_datasets.scripts.download_and_prepare --register_checksums --datasets=ag_news_subset"
   ]
  },
  {
   "cell_type": "code",
   "execution_count": 10,
   "id": "eea75ece",
   "metadata": {},
   "outputs": [],
   "source": [
    "# https://www.tensorflow.org/datasets/splits\n",
    "# The full `train` and `test` splits, interleaved together.\n",
    "ri = tfds.core.ReadInstruction('train') + tfds.core.ReadInstruction('test')"
   ]
  },
  {
   "cell_type": "code",
   "execution_count": 11,
   "id": "168bdce5",
   "metadata": {},
   "outputs": [],
   "source": [
    "dataset_all, info = tfds.load('ag_news_subset', with_info=True,  split=ri, as_supervised=True)"
   ]
  },
  {
   "cell_type": "code",
   "execution_count": 12,
   "id": "ce5727e9",
   "metadata": {},
   "outputs": [],
   "source": [
    "text_only_dataset_all=dataset_all.map(lambda x, y: x)"
   ]
  },
  {
   "cell_type": "code",
   "execution_count": 13,
   "id": "ee1c3853",
   "metadata": {},
   "outputs": [
    {
     "data": {
      "text/html": [
       "<style type=\"text/css\">\n",
       "</style>\n",
       "<table id=\"T_c9a53\">\n",
       "  <thead>\n",
       "    <tr>\n",
       "      <th class=\"blank level0\" >&nbsp;</th>\n",
       "      <th id=\"T_c9a53_level0_col0\" class=\"col_heading level0 col0\" >description</th>\n",
       "      <th id=\"T_c9a53_level0_col1\" class=\"col_heading level0 col1\" >label</th>\n",
       "    </tr>\n",
       "  </thead>\n",
       "  <tbody>\n",
       "    <tr>\n",
       "      <th id=\"T_c9a53_level0_row0\" class=\"row_heading level0 row0\" >0</th>\n",
       "      <td id=\"T_c9a53_row0_col0\" class=\"data row0 col0\" >AMD #39;s new dual-core Opteron chip is designed mainly for corporate computing applications, including databases, Web services, and financial transactions.</td>\n",
       "      <td id=\"T_c9a53_row0_col1\" class=\"data row0 col1\" >3 (Sci/Tech)</td>\n",
       "    </tr>\n",
       "    <tr>\n",
       "      <th id=\"T_c9a53_level0_row1\" class=\"row_heading level0 row1\" >1</th>\n",
       "      <td id=\"T_c9a53_row1_col0\" class=\"data row1 col0\" >Reuters - Major League Baseball\\Monday announced a decision on the appeal filed by Chicago Cubs\\pitcher Kerry Wood regarding a suspension stemming from an\\incident earlier this season.</td>\n",
       "      <td id=\"T_c9a53_row1_col1\" class=\"data row1 col1\" >1 (Sports)</td>\n",
       "    </tr>\n",
       "    <tr>\n",
       "      <th id=\"T_c9a53_level0_row2\" class=\"row_heading level0 row2\" >2</th>\n",
       "      <td id=\"T_c9a53_row2_col0\" class=\"data row2 col0\" >President Bush #39;s quot;revenue-neutral quot; tax reform needs losers to balance its winners, and people claiming the federal deduction for state and local taxes may be in administration planners #39; sights, news reports say.</td>\n",
       "      <td id=\"T_c9a53_row2_col1\" class=\"data row2 col1\" >2 (Business)</td>\n",
       "    </tr>\n",
       "    <tr>\n",
       "      <th id=\"T_c9a53_level0_row3\" class=\"row_heading level0 row3\" >3</th>\n",
       "      <td id=\"T_c9a53_row3_col0\" class=\"data row3 col0\" >Britain will run out of leading scientists unless science education is improved, says Professor Colin Pillinger.</td>\n",
       "      <td id=\"T_c9a53_row3_col1\" class=\"data row3 col1\" >3 (Sci/Tech)</td>\n",
       "    </tr>\n",
       "    <tr>\n",
       "      <th id=\"T_c9a53_level0_row4\" class=\"row_heading level0 row4\" >4</th>\n",
       "      <td id=\"T_c9a53_row4_col0\" class=\"data row4 col0\" >London, England (Sports Network) - England midfielder Steven Gerrard injured his groin late in Thursday #39;s training session, but is hopeful he will be ready for Saturday #39;s World Cup qualifier against Austria.</td>\n",
       "      <td id=\"T_c9a53_row4_col1\" class=\"data row4 col1\" >1 (Sports)</td>\n",
       "    </tr>\n",
       "    <tr>\n",
       "      <th id=\"T_c9a53_level0_row5\" class=\"row_heading level0 row5\" >5</th>\n",
       "      <td id=\"T_c9a53_row5_col0\" class=\"data row5 col0\" >TOKYO - Sony Corp. is banking on the \\$3 billion deal to acquire Hollywood studio Metro-Goldwyn-Mayer Inc...</td>\n",
       "      <td id=\"T_c9a53_row5_col1\" class=\"data row5 col1\" >0 (World)</td>\n",
       "    </tr>\n",
       "    <tr>\n",
       "      <th id=\"T_c9a53_level0_row6\" class=\"row_heading level0 row6\" >6</th>\n",
       "      <td id=\"T_c9a53_row6_col0\" class=\"data row6 col0\" >Giant pandas may well prefer bamboo to laptops, but wireless technology is helping researchers in China in their efforts to protect the engandered animals living in the remote Wolong Nature Reserve.</td>\n",
       "      <td id=\"T_c9a53_row6_col1\" class=\"data row6 col1\" >3 (Sci/Tech)</td>\n",
       "    </tr>\n",
       "    <tr>\n",
       "      <th id=\"T_c9a53_level0_row7\" class=\"row_heading level0 row7\" >7</th>\n",
       "      <td id=\"T_c9a53_row7_col0\" class=\"data row7 col0\" >VILNIUS, Lithuania - Lithuania #39;s main parties formed an alliance to try to keep a Russian-born tycoon and his populist promises out of the government in Sunday #39;s second round of parliamentary elections in this Baltic country.</td>\n",
       "      <td id=\"T_c9a53_row7_col1\" class=\"data row7 col1\" >0 (World)</td>\n",
       "    </tr>\n",
       "    <tr>\n",
       "      <th id=\"T_c9a53_level0_row8\" class=\"row_heading level0 row8\" >8</th>\n",
       "      <td id=\"T_c9a53_row8_col0\" class=\"data row8 col0\" >Witnesses in the trial of a US soldier charged with abusing prisoners at Abu Ghraib have told the court that the CIA sometimes directed abuse and orders were received from military command to toughen interrogations.</td>\n",
       "      <td id=\"T_c9a53_row8_col1\" class=\"data row8 col1\" >0 (World)</td>\n",
       "    </tr>\n",
       "    <tr>\n",
       "      <th id=\"T_c9a53_level0_row9\" class=\"row_heading level0 row9\" >9</th>\n",
       "      <td id=\"T_c9a53_row9_col0\" class=\"data row9 col0\" >Dan Olsen of Ponte Vedra Beach, Fla., shot a 7-under 65 Thursday to take a one-shot lead after two rounds of the PGA Tour qualifying tournament.</td>\n",
       "      <td id=\"T_c9a53_row9_col1\" class=\"data row9 col1\" >1 (Sports)</td>\n",
       "    </tr>\n",
       "  </tbody>\n",
       "</table>\n"
      ],
      "text/plain": [
       "                                         description  label\n",
       "0  b'AMD #39;s new dual-core Opteron chip is desi...      3\n",
       "1  b'Reuters - Major League Baseball\\\\Monday anno...      1\n",
       "2  b'President Bush #39;s  quot;revenue-neutral q...      2\n",
       "3  b'Britain will run out of leading scientists u...      3\n",
       "4  b'London, England (Sports Network) - England m...      1\n",
       "5  b'TOKYO - Sony Corp. is banking on the \\\\$3 bi...      0\n",
       "6  b'Giant pandas may well prefer bamboo to lapto...      3\n",
       "7  b'VILNIUS, Lithuania - Lithuania #39;s main pa...      0\n",
       "8  b'Witnesses in the trial of a US soldier charg...      0\n",
       "9  b'Dan Olsen of Ponte Vedra Beach, Fla., shot a...      1"
      ]
     },
     "execution_count": 13,
     "metadata": {},
     "output_type": "execute_result"
    }
   ],
   "source": [
    "tfds.as_dataframe(dataset_all.take(10),info)"
   ]
  },
  {
   "cell_type": "code",
   "execution_count": 14,
   "id": "ab9520a9",
   "metadata": {},
   "outputs": [
    {
     "name": "stdout",
     "output_type": "stream",
     "text": [
      "Dictionary:  {0: 'World', 1: 'Sports', 2: 'Business', 3: 'Sci/Tech'}\n"
     ]
    }
   ],
   "source": [
    "categories =dict(enumerate(info.features[\"label\"].names))\n",
    "print(f'Dictionary: ',categories)"
   ]
  },
  {
   "cell_type": "code",
   "execution_count": 15,
   "id": "2d239c68",
   "metadata": {},
   "outputs": [
    {
     "data": {
      "text/plain": [
       "[('Sci/Tech', 31900), ('Sports', 31900), ('Business', 31900), ('World', 31900)]"
      ]
     },
     "execution_count": 15,
     "metadata": {},
     "output_type": "execute_result"
    }
   ],
   "source": [
    "train_categories = [categories[label] for label in dataset_all.map(lambda text, label: label).as_numpy_iterator()]\n",
    "Counter(train_categories).most_common()"
   ]
  },
  {
   "cell_type": "code",
   "execution_count": 16,
   "id": "bc111f11",
   "metadata": {},
   "outputs": [],
   "source": [
    "def custom_stopwords(input_text):\n",
    "    lowercase = tf.strings.lower(input_text)\n",
    "    stripped_punct = tf.strings.regex_replace(lowercase\n",
    "                                  ,'[%s]' % re.escape(string.punctuation)\n",
    "                                  ,'')\n",
    "    return tf.strings.regex_replace(stripped_punct, r'\\b(' + r'|'.join(STOPWORDS) + r')\\b\\s*',\"\")"
   ]
  },
  {
   "cell_type": "code",
   "execution_count": 17,
   "id": "e826101d",
   "metadata": {},
   "outputs": [],
   "source": [
    "nltk.download('stopwords',quiet=True)\n",
    "STOPWORDS = stopwords.words(\"english\")"
   ]
  },
  {
   "cell_type": "code",
   "execution_count": 18,
   "id": "ba52d4fe",
   "metadata": {},
   "outputs": [
    {
     "data": {
      "text/plain": [
       "['i',\n",
       " 'me',\n",
       " 'my',\n",
       " 'myself',\n",
       " 'we',\n",
       " 'our',\n",
       " 'ours',\n",
       " 'ourselves',\n",
       " 'you',\n",
       " \"you're\",\n",
       " \"you've\",\n",
       " \"you'll\",\n",
       " \"you'd\",\n",
       " 'your',\n",
       " 'yours',\n",
       " 'yourself',\n",
       " 'yourselves',\n",
       " 'he',\n",
       " 'him',\n",
       " 'his',\n",
       " 'himself',\n",
       " 'she',\n",
       " \"she's\",\n",
       " 'her',\n",
       " 'hers',\n",
       " 'herself',\n",
       " 'it',\n",
       " \"it's\",\n",
       " 'its',\n",
       " 'itself',\n",
       " 'they',\n",
       " 'them',\n",
       " 'their',\n",
       " 'theirs',\n",
       " 'themselves',\n",
       " 'what',\n",
       " 'which',\n",
       " 'who',\n",
       " 'whom',\n",
       " 'this',\n",
       " 'that',\n",
       " \"that'll\",\n",
       " 'these',\n",
       " 'those',\n",
       " 'am',\n",
       " 'is',\n",
       " 'are',\n",
       " 'was',\n",
       " 'were',\n",
       " 'be',\n",
       " 'been',\n",
       " 'being',\n",
       " 'have',\n",
       " 'has',\n",
       " 'had',\n",
       " 'having',\n",
       " 'do',\n",
       " 'does',\n",
       " 'did',\n",
       " 'doing',\n",
       " 'a',\n",
       " 'an',\n",
       " 'the',\n",
       " 'and',\n",
       " 'but',\n",
       " 'if',\n",
       " 'or',\n",
       " 'because',\n",
       " 'as',\n",
       " 'until',\n",
       " 'while',\n",
       " 'of',\n",
       " 'at',\n",
       " 'by',\n",
       " 'for',\n",
       " 'with',\n",
       " 'about',\n",
       " 'against',\n",
       " 'between',\n",
       " 'into',\n",
       " 'through',\n",
       " 'during',\n",
       " 'before',\n",
       " 'after',\n",
       " 'above',\n",
       " 'below',\n",
       " 'to',\n",
       " 'from',\n",
       " 'up',\n",
       " 'down',\n",
       " 'in',\n",
       " 'out',\n",
       " 'on',\n",
       " 'off',\n",
       " 'over',\n",
       " 'under',\n",
       " 'again',\n",
       " 'further',\n",
       " 'then',\n",
       " 'once',\n",
       " 'here',\n",
       " 'there',\n",
       " 'when',\n",
       " 'where',\n",
       " 'why',\n",
       " 'how',\n",
       " 'all',\n",
       " 'any',\n",
       " 'both',\n",
       " 'each',\n",
       " 'few',\n",
       " 'more',\n",
       " 'most',\n",
       " 'other',\n",
       " 'some',\n",
       " 'such',\n",
       " 'no',\n",
       " 'nor',\n",
       " 'not',\n",
       " 'only',\n",
       " 'own',\n",
       " 'same',\n",
       " 'so',\n",
       " 'than',\n",
       " 'too',\n",
       " 'very',\n",
       " 's',\n",
       " 't',\n",
       " 'can',\n",
       " 'will',\n",
       " 'just',\n",
       " 'don',\n",
       " \"don't\",\n",
       " 'should',\n",
       " \"should've\",\n",
       " 'now',\n",
       " 'd',\n",
       " 'll',\n",
       " 'm',\n",
       " 'o',\n",
       " 're',\n",
       " 've',\n",
       " 'y',\n",
       " 'ain',\n",
       " 'aren',\n",
       " \"aren't\",\n",
       " 'couldn',\n",
       " \"couldn't\",\n",
       " 'didn',\n",
       " \"didn't\",\n",
       " 'doesn',\n",
       " \"doesn't\",\n",
       " 'hadn',\n",
       " \"hadn't\",\n",
       " 'hasn',\n",
       " \"hasn't\",\n",
       " 'haven',\n",
       " \"haven't\",\n",
       " 'isn',\n",
       " \"isn't\",\n",
       " 'ma',\n",
       " 'mightn',\n",
       " \"mightn't\",\n",
       " 'mustn',\n",
       " \"mustn't\",\n",
       " 'needn',\n",
       " \"needn't\",\n",
       " 'shan',\n",
       " \"shan't\",\n",
       " 'shouldn',\n",
       " \"shouldn't\",\n",
       " 'wasn',\n",
       " \"wasn't\",\n",
       " 'weren',\n",
       " \"weren't\",\n",
       " 'won',\n",
       " \"won't\",\n",
       " 'wouldn',\n",
       " \"wouldn't\"]"
      ]
     },
     "execution_count": 18,
     "metadata": {},
     "output_type": "execute_result"
    }
   ],
   "source": [
    "STOPWORDS"
   ]
  },
  {
   "cell_type": "code",
   "execution_count": 19,
   "id": "c11e831f",
   "metadata": {},
   "outputs": [],
   "source": [
    "##############################################\n",
    "# GLOBAL layers.TextVectorization() Settings #\n",
    "##############################################\n",
    "max_tokens=None # default\n",
    "output_sequence_length=None # default\n",
    "# STOPWORDS: default nltk stopwords"
   ]
  },
  {
   "cell_type": "code",
   "execution_count": null,
   "id": "a9931106",
   "metadata": {},
   "outputs": [],
   "source": []
  },
  {
   "cell_type": "code",
   "execution_count": 20,
   "id": "b003d085",
   "metadata": {},
   "outputs": [],
   "source": [
    "def display_training_curves(training, validation, title, subplot):\n",
    "  ax = plt.subplot(subplot)\n",
    "  ax.plot(training)\n",
    "  ax.plot(validation)\n",
    "  ax.set_title('model '+ title)\n",
    "  ax.set_ylabel(title)\n",
    "  ax.set_xlabel('epoch')\n",
    "  ax.legend(['training', 'validation'])\n",
    "\n",
    "def print_validation_report(test_labels, predictions):\n",
    "    print(\"Classification Report\")\n",
    "    print(classification_report(test_labels, predictions))\n",
    "    print('Accuracy Score: {}'.format(accuracy_score(test_labels, predictions)))\n",
    "    print('Root Mean Square Error: {}'.format(np.sqrt(MSE(test_labels, predictions)))) \n",
    "    \n",
    "def plot_confusion_matrix(y_true, y_pred):\n",
    "    mtx = confusion_matrix(y_true, y_pred)\n",
    "    fig, ax = plt.subplots(figsize=(16,12))\n",
    "    sns.heatmap(mtx, annot=True, fmt='d', linewidths=.75,  cbar=False, ax=ax,cmap='Blues',linecolor='white')\n",
    "    #  square=True,\n",
    "    plt.ylabel('true label')\n",
    "    plt.xlabel('predicted label')\n",
    "\n"
   ]
  },
  {
   "cell_type": "code",
   "execution_count": null,
   "id": "4f1f982e",
   "metadata": {},
   "outputs": [],
   "source": []
  },
  {
   "cell_type": "code",
   "execution_count": null,
   "id": "e93054b2",
   "metadata": {},
   "outputs": [],
   "source": []
  },
  {
   "cell_type": "code",
   "execution_count": null,
   "id": "d03f4384",
   "metadata": {},
   "outputs": [],
   "source": []
  },
  {
   "cell_type": "code",
   "execution_count": null,
   "id": "2ceca783",
   "metadata": {},
   "outputs": [],
   "source": []
  },
  {
   "cell_type": "code",
   "execution_count": null,
   "id": "2b6499b8",
   "metadata": {},
   "outputs": [],
   "source": []
  },
  {
   "cell_type": "code",
   "execution_count": 32,
   "id": "7efa5d34",
   "metadata": {},
   "outputs": [
    {
     "name": "stdout",
     "output_type": "stream",
     "text": [
      "CPU times: total: 7min 54s\n",
      "Wall time: 4min 55s\n"
     ]
    }
   ],
   "source": [
    "# %%time\n",
    "# # EDA layers.TextVectorization(): text_vectorization\n",
    "\n",
    "# text_vectorization=layers.TextVectorization(\n",
    "#     max_tokens=max_tokens,\n",
    "#     output_mode=\"int\",\n",
    "#     standardize=custom_stopwords,\n",
    "#     output_sequence_length=output_sequence_length\n",
    "# )\n",
    "# text_vectorization.adapt(text_only_dataset_all)"
   ]
  },
  {
   "cell_type": "code",
   "execution_count": null,
   "id": "8401406c",
   "metadata": {},
   "outputs": [],
   "source": []
  },
  {
   "cell_type": "code",
   "execution_count": 20,
   "id": "8e7ef62d",
   "metadata": {},
   "outputs": [
    {
     "name": "stdout",
     "output_type": "stream",
     "text": [
      "CPU times: total: 17min 22s\n",
      "Wall time: 16min 31s\n"
     ]
    }
   ],
   "source": [
    "# %%time\n",
    "# doc_sizes = []\n",
    "# corpus = []\n",
    "# for example, _ in dataset_all.as_numpy_iterator():\n",
    "#   enc_example = text_vectorization(example)\n",
    "#   doc_sizes.append(len(enc_example))\n",
    "#   corpus+=list(enc_example.numpy())"
   ]
  },
  {
   "cell_type": "code",
   "execution_count": 21,
   "id": "cd05dc09",
   "metadata": {},
   "outputs": [
    {
     "name": "stdout",
     "output_type": "stream",
     "text": [
      "There are 2579419 words in the corpus of 127600 news articles.\n",
      "Each news article has between 2 and 95 tokens in it.\n"
     ]
    }
   ],
   "source": [
    "# print(f\"There are {len(corpus)} words in the corpus of {len(doc_sizes)} news articles.\")\n",
    "# print(f\"Each news article has between {min(doc_sizes)} and {max(doc_sizes)} tokens in it.\")"
   ]
  },
  {
   "cell_type": "code",
   "execution_count": 22,
   "id": "fcfa453c",
   "metadata": {},
   "outputs": [
    {
     "data": {
      "text/plain": [
       "20.214882445141065"
      ]
     },
     "execution_count": 22,
     "metadata": {},
     "output_type": "execute_result"
    }
   ],
   "source": [
    "# statistics.mean(doc_sizes)"
   ]
  },
  {
   "cell_type": "code",
   "execution_count": 23,
   "id": "1733879e",
   "metadata": {},
   "outputs": [
    {
     "name": "stdout",
     "output_type": "stream",
     "text": [
      "There are 95827 vocabulary words in the corpus.\n"
     ]
    }
   ],
   "source": [
    "# print(f\"There are {len(text_vectorization.get_vocabulary())} vocabulary words in the corpus.\")"
   ]
  },
  {
   "cell_type": "code",
   "execution_count": 24,
   "id": "a27efc6a",
   "metadata": {},
   "outputs": [
    {
     "name": "stdout",
     "output_type": "stream",
     "text": [
      "['' '[UNK]' '39s' 'said' 'new' 'us' 'reuters' 'ap' 'two' 'first' 'monday'\n",
      " 'wednesday' 'tuesday' 'thursday' 'company' 'friday' 'inc' 'one' 'world'\n",
      " 'yesterday' 'last' 'york' 'year' 'president' 'million' 'oil' 'corp'\n",
      " 'united' 'would' 'sunday' 'years' 'week' 'people' 'today' 'three'\n",
      " 'government' 'could' 'quot' 'group' 'time' 'percent' 'game' 'saturday'\n",
      " 'software' 'night' 'next' 'prices' 'iraq' 'security' 'announced']\n"
     ]
    }
   ],
   "source": [
    "# vocab = np.array(text_vectorization.get_vocabulary())\n",
    "# print(vocab[:50])"
   ]
  },
  {
   "cell_type": "code",
   "execution_count": 25,
   "id": "56156064",
   "metadata": {},
   "outputs": [
    {
     "data": {
      "image/png": "[encoded data removed]",
      "text/plain": [
       "<Figure size 1080x648 with 1 Axes>"
      ]
     },
     "metadata": {
      "needs_background": "light"
     },
     "output_type": "display_data"
    }
   ],
   "source": [
    "# plt.figure(figsize=(15,9))\n",
    "# plt.hist(doc_sizes, bins=20,range = (0,80))\n",
    "# plt.xlabel(\"Tokens Per Document\")\n",
    "# plt.ylabel(\"Number of AG News Articles\");"
   ]
  },
  {
   "cell_type": "code",
   "execution_count": null,
   "id": "9b0cbb88",
   "metadata": {},
   "outputs": [],
   "source": []
  },
  {
   "cell_type": "code",
   "execution_count": null,
   "id": "df261b5d",
   "metadata": {},
   "outputs": [],
   "source": []
  },
  {
   "cell_type": "code",
   "execution_count": null,
   "id": "6e8d3869",
   "metadata": {},
   "outputs": [],
   "source": []
  },
  {
   "cell_type": "markdown",
   "id": "a659cc19",
   "metadata": {},
   "source": [
    "## Experiments: Dataset Split\n",
    "\n",
    "- split into train, validation, test datasets"
   ]
  },
  {
   "cell_type": "code",
   "execution_count": 21,
   "id": "0b4b05a7",
   "metadata": {},
   "outputs": [],
   "source": [
    "dataset,info=\\\n",
    "tfds.load('ag_news_subset', with_info=True,  split=['train[:95%]','train[95%:]', 'test'],batch_size = 32\n",
    "          , as_supervised=True)\n",
    "\n",
    "train_ds, val_ds, test_ds = dataset\n",
    "text_only_train_ds = train_ds.map(lambda x, y: x)"
   ]
  },
  {
   "cell_type": "markdown",
   "id": "62ba1a42",
   "metadata": {},
   "source": [
    "## layers.TextVectorization() Settings\n",
    "\n",
    "- max_tokens: None (Default)\n",
    "- output_seqnence_length: None (Default)\n",
    "- STOPWORDS: default nltk stopwords"
   ]
  },
  {
   "cell_type": "code",
   "execution_count": 22,
   "id": "47f90f3b",
   "metadata": {},
   "outputs": [
    {
     "name": "stdout",
     "output_type": "stream",
     "text": [
      "None\n"
     ]
    }
   ],
   "source": [
    "print(output_sequence_length)"
   ]
  },
  {
   "cell_type": "code",
   "execution_count": 23,
   "id": "3c0bf4a0",
   "metadata": {},
   "outputs": [
    {
     "name": "stdout",
     "output_type": "stream",
     "text": [
      "None\n"
     ]
    }
   ],
   "source": [
    "print(max_tokens)"
   ]
  },
  {
   "cell_type": "code",
   "execution_count": null,
   "id": "1ff94627",
   "metadata": {},
   "outputs": [],
   "source": []
  },
  {
   "cell_type": "code",
   "execution_count": 24,
   "id": "6e8faf1f",
   "metadata": {},
   "outputs": [
    {
     "name": "stdout",
     "output_type": "stream",
     "text": [
      "CPU times: total: 15.2 s\n",
      "Wall time: 6.05 s\n"
     ]
    }
   ],
   "source": [
    "%%time\n",
    "###################################################\n",
    "# layers.TextVectorization() Experiment Settings: #\n",
    "###################################################\n",
    "# max_tokens=None # default\n",
    "# output_sequence_length=None # default\n",
    "# STOPWORDS: default nltk stopwords\n",
    "\n",
    "# Experiment layers.TextVectorization(): text_vectorization_exp\n",
    "\n",
    "text_vectorization_exp = layers.TextVectorization(\n",
    "    max_tokens=max_tokens,\n",
    "    output_mode=\"int\",\n",
    "    standardize=custom_stopwords,\n",
    "    output_sequence_length=output_sequence_length\n",
    ")\n",
    "text_vectorization_exp.adapt(text_only_train_ds)"
   ]
  },
  {
   "cell_type": "code",
   "execution_count": 25,
   "id": "10f0b21f",
   "metadata": {},
   "outputs": [],
   "source": [
    "int_train_ds = train_ds.map(\n",
    "    lambda x, y: (text_vectorization_exp(x), y),\n",
    "    num_parallel_calls=4)\n",
    "int_val_ds = val_ds.map(\n",
    "    lambda x, y: (text_vectorization_exp(x), y),\n",
    "    num_parallel_calls=4)\n",
    "int_test_ds = test_ds.map(\n",
    "    lambda x, y: (text_vectorization_exp(x), y),\n",
    "    num_parallel_calls=4)"
   ]
  },
  {
   "cell_type": "code",
   "execution_count": null,
   "id": "c2d79e1a",
   "metadata": {},
   "outputs": [],
   "source": []
  },
  {
   "cell_type": "code",
   "execution_count": null,
   "id": "4e3c1a59",
   "metadata": {},
   "outputs": [],
   "source": []
  },
  {
   "cell_type": "code",
   "execution_count": null,
   "id": "6c2da628",
   "metadata": {},
   "outputs": [],
   "source": []
  },
  {
   "cell_type": "code",
   "execution_count": null,
   "id": "57548388",
   "metadata": {},
   "outputs": [],
   "source": []
  },
  {
   "cell_type": "code",
   "execution_count": null,
   "id": "0fc6c7fc",
   "metadata": {},
   "outputs": [],
   "source": []
  },
  {
   "cell_type": "code",
   "execution_count": null,
   "id": "a9810177",
   "metadata": {},
   "outputs": [],
   "source": []
  },
  {
   "cell_type": "code",
   "execution_count": null,
   "id": "a18c5d1e",
   "metadata": {},
   "outputs": [],
   "source": []
  },
  {
   "cell_type": "markdown",
   "id": "31a9c358",
   "metadata": {},
   "source": [
    "### Experiment 1: LSTM\n",
    "\n",
    "- layers.TextVectorization(output_sequence_length): None (default)\n",
    "- layers.Dropout(dropout): 0.2 (constant)\n",
    "- layers.Bidirectional(layers.LSTM(units)): 32 (constant)\n",
    "- layers.Embedding(output_dim): 64 (variable)\n",
    "- layers.Embedding(input_dim): 1000 (constant)"
   ]
  },
  {
   "cell_type": "code",
   "execution_count": null,
   "id": "c150b81f",
   "metadata": {},
   "outputs": [],
   "source": []
  },
  {
   "cell_type": "code",
   "execution_count": 26,
   "id": "cbc70894",
   "metadata": {},
   "outputs": [],
   "source": [
    "# output_sequence_length=None # default\n",
    "dropout = 0.2 # constant\n",
    "units = 32 # constant\n",
    "output_dim = 64 # variable\n",
    "input_dim = 1000 # constant"
   ]
  },
  {
   "cell_type": "code",
   "execution_count": null,
   "id": "d7929524",
   "metadata": {},
   "outputs": [],
   "source": []
  },
  {
   "cell_type": "code",
   "execution_count": null,
   "id": "0247fe91",
   "metadata": {},
   "outputs": [],
   "source": []
  },
  {
   "cell_type": "code",
   "execution_count": null,
   "id": "ff1650e2",
   "metadata": {},
   "outputs": [],
   "source": []
  },
  {
   "cell_type": "code",
   "execution_count": 25,
   "id": "5c1cb3e4",
   "metadata": {
    "scrolled": true
   },
   "outputs": [
    {
     "name": "stdout",
     "output_type": "stream",
     "text": [
      "Model: \"model\"\n",
      "_________________________________________________________________\n",
      " Layer (type)                Output Shape              Param #   \n",
      "=================================================================\n",
      " input_1 (InputLayer)        [(None, None)]            0         \n",
      "                                                                 \n",
      " embedding (Embedding)       (None, None, 64)          64000     \n",
      "                                                                 \n",
      " bidirectional (Bidirectiona  (None, 64)               24832     \n",
      " l)                                                              \n",
      "                                                                 \n",
      " dropout (Dropout)           (None, 64)                0         \n",
      "                                                                 \n",
      " dense (Dense)               (None, 4)                 260       \n",
      "                                                                 \n",
      "=================================================================\n",
      "Total params: 89,092\n",
      "Trainable params: 89,092\n",
      "Non-trainable params: 0\n",
      "_________________________________________________________________\n",
      "Epoch 1/200\n",
      "3563/3563 [==============================] - 91s 23ms/step - loss: 0.4699 - accuracy: 0.8319 - val_loss: 0.4079 - val_accuracy: 0.8552\n",
      "Epoch 2/200\n",
      "3563/3563 [==============================] - 80s 23ms/step - loss: 0.4089 - accuracy: 0.8541 - val_loss: 0.3980 - val_accuracy: 0.8577\n",
      "Epoch 3/200\n",
      "3563/3563 [==============================] - 79s 22ms/step - loss: 0.3948 - accuracy: 0.8584 - val_loss: 0.3915 - val_accuracy: 0.8605\n",
      "Epoch 4/200\n",
      "3563/3563 [==============================] - 80s 22ms/step - loss: 0.3836 - accuracy: 0.8626 - val_loss: 0.3853 - val_accuracy: 0.8607\n",
      "Epoch 5/200\n",
      "3563/3563 [==============================] - 79s 22ms/step - loss: 0.3733 - accuracy: 0.8671 - val_loss: 0.3798 - val_accuracy: 0.8645\n",
      "Epoch 6/200\n",
      "3563/3563 [==============================] - 79s 22ms/step - loss: 0.3640 - accuracy: 0.8701 - val_loss: 0.3734 - val_accuracy: 0.8643\n",
      "Epoch 7/200\n",
      "3563/3563 [==============================] - 80s 22ms/step - loss: 0.3565 - accuracy: 0.8727 - val_loss: 0.3730 - val_accuracy: 0.8633\n",
      "Epoch 8/200\n",
      "3563/3563 [==============================] - 80s 23ms/step - loss: 0.3499 - accuracy: 0.8751 - val_loss: 0.3723 - val_accuracy: 0.8647\n",
      "Epoch 9/200\n",
      "3563/3563 [==============================] - 81s 23ms/step - loss: 0.3425 - accuracy: 0.8773 - val_loss: 0.3700 - val_accuracy: 0.8648\n",
      "Epoch 10/200\n",
      "3563/3563 [==============================] - 82s 23ms/step - loss: 0.3372 - accuracy: 0.8794 - val_loss: 0.3671 - val_accuracy: 0.8658\n",
      "Epoch 11/200\n",
      "3563/3563 [==============================] - 79s 22ms/step - loss: 0.3307 - accuracy: 0.8825 - val_loss: 0.3695 - val_accuracy: 0.8642\n",
      "Epoch 12/200\n",
      "3563/3563 [==============================] - 79s 22ms/step - loss: 0.3242 - accuracy: 0.8851 - val_loss: 0.3708 - val_accuracy: 0.8660\n",
      "Epoch 13/200\n",
      "3563/3563 [==============================] - 78s 22ms/step - loss: 0.3180 - accuracy: 0.8866 - val_loss: 0.3769 - val_accuracy: 0.8650\n",
      "Epoch 14/200\n",
      "3563/3563 [==============================] - 79s 22ms/step - loss: 0.3117 - accuracy: 0.8892 - val_loss: 0.3771 - val_accuracy: 0.8658\n",
      "Epoch 15/200\n",
      "3563/3563 [==============================] - 82s 23ms/step - loss: 0.3075 - accuracy: 0.8911 - val_loss: 0.3800 - val_accuracy: 0.8675\n",
      "Epoch 16/200\n",
      "3563/3563 [==============================] - 85s 24ms/step - loss: 0.3009 - accuracy: 0.8931 - val_loss: 0.3852 - val_accuracy: 0.8647\n",
      "Epoch 17/200\n",
      "3563/3563 [==============================] - 80s 23ms/step - loss: 0.2976 - accuracy: 0.8946 - val_loss: 0.3898 - val_accuracy: 0.8638\n",
      "Epoch 18/200\n",
      "3563/3563 [==============================] - 81s 23ms/step - loss: 0.2921 - accuracy: 0.8966 - val_loss: 0.3877 - val_accuracy: 0.8653\n",
      "238/238 [==============================] - 5s 8ms/step - loss: 0.3900 - accuracy: 0.8651\n",
      "Test acc: 0.865\n"
     ]
    }
   ],
   "source": [
    "k.clear_session()\n",
    "inputs = tf.keras.Input(shape=(None,), dtype=\"int64\")\n",
    "embedded = layers.Embedding(input_dim=input_dim\n",
    "                            ,output_dim=output_dim\n",
    "                            ,mask_zero=True)(inputs)\n",
    "x = layers.Bidirectional(layers.LSTM(units))(embedded)\n",
    "x = layers.Dropout(dropout)(x)\n",
    "outputs = layers.Dense(4, activation=\"softmax\")(x)\n",
    "model_01 = tf.keras.Model(inputs, outputs)\n",
    "model_01.compile(optimizer=\"rmsprop\",\n",
    "              loss=\"SparseCategoricalCrossentropy\",\n",
    "              metrics=[\"accuracy\"])\n",
    "model_01.summary()\n",
    "\n",
    "callbacks = [\n",
    "    tf.keras.callbacks.ModelCheckpoint(\"LSTM_01_osl_def_od_64.h5\",save_best_only=True)\n",
    "    ,tf.keras.callbacks.EarlyStopping(monitor='val_accuracy', patience=3)\n",
    "]\n",
    "history=model_01.fit(int_train_ds, validation_data=int_val_ds, epochs=200, callbacks=callbacks)\n",
    "model_01 = keras.models.load_model(\"LSTM_01_osl_def_od_64.h5\")\n",
    "print(f\"Test acc: {model_01.evaluate(int_test_ds)[1]:.3f}\")"
   ]
  },
  {
   "cell_type": "code",
   "execution_count": 26,
   "id": "f26dc6ae",
   "metadata": {},
   "outputs": [
    {
     "data": {
      "text/plain": [
       "dict_keys(['loss', 'accuracy', 'val_loss', 'val_accuracy'])"
      ]
     },
     "execution_count": 26,
     "metadata": {},
     "output_type": "execute_result"
    }
   ],
   "source": [
    "history_dict = history.history\n",
    "history_dict.keys()"
   ]
  },
  {
   "cell_type": "code",
   "execution_count": 27,
   "id": "934a5efa",
   "metadata": {},
   "outputs": [
    {
     "data": {
      "text/html": [
       "<div>\n",
       "<style scoped>\n",
       "    .dataframe tbody tr th:only-of-type {\n",
       "        vertical-align: middle;\n",
       "    }\n",
       "\n",
       "    .dataframe tbody tr th {\n",
       "        vertical-align: top;\n",
       "    }\n",
       "\n",
       "    .dataframe thead th {\n",
       "        text-align: right;\n",
       "    }\n",
       "</style>\n",
       "<table border=\"1\" class=\"dataframe\">\n",
       "  <thead>\n",
       "    <tr style=\"text-align: right;\">\n",
       "      <th></th>\n",
       "      <th>loss</th>\n",
       "      <th>accuracy</th>\n",
       "      <th>val_loss</th>\n",
       "      <th>val_accuracy</th>\n",
       "    </tr>\n",
       "  </thead>\n",
       "  <tbody>\n",
       "    <tr>\n",
       "      <th>13</th>\n",
       "      <td>0.312</td>\n",
       "      <td>0.889</td>\n",
       "      <td>0.377</td>\n",
       "      <td>0.866</td>\n",
       "    </tr>\n",
       "    <tr>\n",
       "      <th>14</th>\n",
       "      <td>0.307</td>\n",
       "      <td>0.891</td>\n",
       "      <td>0.380</td>\n",
       "      <td>0.868</td>\n",
       "    </tr>\n",
       "    <tr>\n",
       "      <th>15</th>\n",
       "      <td>0.301</td>\n",
       "      <td>0.893</td>\n",
       "      <td>0.385</td>\n",
       "      <td>0.865</td>\n",
       "    </tr>\n",
       "    <tr>\n",
       "      <th>16</th>\n",
       "      <td>0.298</td>\n",
       "      <td>0.895</td>\n",
       "      <td>0.390</td>\n",
       "      <td>0.864</td>\n",
       "    </tr>\n",
       "    <tr>\n",
       "      <th>17</th>\n",
       "      <td>0.292</td>\n",
       "      <td>0.897</td>\n",
       "      <td>0.388</td>\n",
       "      <td>0.865</td>\n",
       "    </tr>\n",
       "  </tbody>\n",
       "</table>\n",
       "</div>"
      ],
      "text/plain": [
       "     loss  accuracy  val_loss  val_accuracy\n",
       "13  0.312     0.889     0.377         0.866\n",
       "14  0.307     0.891     0.380         0.868\n",
       "15  0.301     0.893     0.385         0.865\n",
       "16  0.298     0.895     0.390         0.864\n",
       "17  0.292     0.897     0.388         0.865"
      ]
     },
     "execution_count": 27,
     "metadata": {},
     "output_type": "execute_result"
    }
   ],
   "source": [
    "losses = history.history['loss']\n",
    "accs = history.history['accuracy']\n",
    "val_losses = history.history['val_loss']\n",
    "val_accs = history.history['val_accuracy']\n",
    "epochs = len(losses)\n",
    "history_df=pd.DataFrame(history_dict)\n",
    "history_df.tail().round(3)"
   ]
  },
  {
   "cell_type": "code",
   "execution_count": 28,
   "id": "d4459817",
   "metadata": {},
   "outputs": [
    {
     "data": {
      "image/png": "[encoded data removed]",
      "text/plain": [
       "<Figure size 1152x864 with 2 Axes>"
      ]
     },
     "metadata": {
      "needs_background": "light"
     },
     "output_type": "display_data"
    }
   ],
   "source": [
    "plt.subplots(figsize=(16,12))\n",
    "plt.tight_layout()\n",
    "display_training_curves(history.history['accuracy'], history.history['val_accuracy'], 'accuracy', 211)\n",
    "display_training_curves(history.history['loss'], history.history['val_loss'], 'loss', 212)"
   ]
  },
  {
   "cell_type": "code",
   "execution_count": 29,
   "id": "572f6278",
   "metadata": {},
   "outputs": [
    {
     "name": "stdout",
     "output_type": "stream",
     "text": [
      "238/238 [==============================] - 4s 6ms/step\n"
     ]
    }
   ],
   "source": [
    "y_test = np.concatenate([y for x, y in int_test_ds], axis=0)\n",
    "pred_classes = np.argmax(model_01.predict(int_test_ds), axis=-1)"
   ]
  },
  {
   "cell_type": "code",
   "execution_count": 30,
   "id": "fce24a0e",
   "metadata": {},
   "outputs": [
    {
     "name": "stdout",
     "output_type": "stream",
     "text": [
      "Classification Report\n",
      "              precision    recall  f1-score   support\n",
      "\n",
      "           0       0.87      0.88      0.87      1900\n",
      "           1       0.92      0.94      0.93      1900\n",
      "           2       0.86      0.82      0.84      1900\n",
      "           3       0.82      0.83      0.83      1900\n",
      "\n",
      "    accuracy                           0.87      7600\n",
      "   macro avg       0.87      0.87      0.87      7600\n",
      "weighted avg       0.87      0.87      0.87      7600\n",
      "\n",
      "Accuracy Score: 0.8660526315789474\n",
      "Root Mean Square Error: 0.65484027783398\n"
     ]
    }
   ],
   "source": [
    "print_validation_report(y_test, pred_classes)"
   ]
  },
  {
   "cell_type": "code",
   "execution_count": 31,
   "id": "0e6726e8",
   "metadata": {
    "scrolled": false
   },
   "outputs": [
    {
     "data": {
      "image/png": "[encoded data removed]",
      "text/plain": [
       "<Figure size 1152x864 with 1 Axes>"
      ]
     },
     "metadata": {
      "needs_background": "light"
     },
     "output_type": "display_data"
    }
   ],
   "source": [
    "plot_confusion_matrix(y_test,pred_classes)"
   ]
  },
  {
   "cell_type": "code",
   "execution_count": null,
   "id": "e71077c8",
   "metadata": {},
   "outputs": [],
   "source": []
  },
  {
   "cell_type": "code",
   "execution_count": null,
   "id": "57549c0a",
   "metadata": {},
   "outputs": [],
   "source": []
  },
  {
   "cell_type": "code",
   "execution_count": null,
   "id": "d784df60",
   "metadata": {},
   "outputs": [],
   "source": []
  },
  {
   "cell_type": "markdown",
   "id": "776d7ebc",
   "metadata": {},
   "source": [
    "### Experiment 2: LSTM\n",
    "\n",
    "- layers.TextVectorization(output_sequence_length): None (default)\n",
    "- layers.Dropout(dropout): 0.2 (constant)\n",
    "- layers.Bidirectional(layers.LSTM(units)): 32 (constant)\n",
    "- layers.Embedding(output_dim): 128 (VARIABLE)\n",
    "- layers.Embedding(input_dim): 1000 (constant)"
   ]
  },
  {
   "cell_type": "code",
   "execution_count": null,
   "id": "393f06bf",
   "metadata": {},
   "outputs": [],
   "source": []
  },
  {
   "cell_type": "code",
   "execution_count": 46,
   "id": "f8172a32",
   "metadata": {},
   "outputs": [],
   "source": [
    "output_dim = 128 # variable"
   ]
  },
  {
   "cell_type": "code",
   "execution_count": 47,
   "id": "2f7e7619",
   "metadata": {},
   "outputs": [
    {
     "name": "stdout",
     "output_type": "stream",
     "text": [
      "input_dim: 1000\n",
      "output_dim: 128\n",
      "units: 32\n",
      "dropout: 0.2\n",
      "output_sequence_length: None\n"
     ]
    }
   ],
   "source": [
    "print('input_dim:', input_dim)\n",
    "print('output_dim:', output_dim)\n",
    "print('units:', units)\n",
    "print('dropout:', dropout)\n",
    "print('output_sequence_length:', output_sequence_length)"
   ]
  },
  {
   "cell_type": "code",
   "execution_count": null,
   "id": "715c6582",
   "metadata": {},
   "outputs": [],
   "source": []
  },
  {
   "cell_type": "code",
   "execution_count": 48,
   "id": "b48402f0",
   "metadata": {
    "scrolled": true
   },
   "outputs": [
    {
     "name": "stdout",
     "output_type": "stream",
     "text": [
      "Model: \"model\"\n",
      "_________________________________________________________________\n",
      " Layer (type)                Output Shape              Param #   \n",
      "=================================================================\n",
      " input_1 (InputLayer)        [(None, None)]            0         \n",
      "                                                                 \n",
      " embedding (Embedding)       (None, None, 128)         128000    \n",
      "                                                                 \n",
      " bidirectional (Bidirectiona  (None, 64)               41216     \n",
      " l)                                                              \n",
      "                                                                 \n",
      " dropout (Dropout)           (None, 64)                0         \n",
      "                                                                 \n",
      " dense (Dense)               (None, 4)                 260       \n",
      "                                                                 \n",
      "=================================================================\n",
      "Total params: 169,476\n",
      "Trainable params: 169,476\n",
      "Non-trainable params: 0\n",
      "_________________________________________________________________\n",
      "Epoch 1/200\n",
      "3563/3563 [==============================] - 91s 23ms/step - loss: 0.4577 - accuracy: 0.8356 - val_loss: 0.4069 - val_accuracy: 0.8583\n",
      "Epoch 2/200\n",
      "3563/3563 [==============================] - 83s 23ms/step - loss: 0.4034 - accuracy: 0.8552 - val_loss: 0.3942 - val_accuracy: 0.8595\n",
      "Epoch 3/200\n",
      "3563/3563 [==============================] - 82s 23ms/step - loss: 0.3867 - accuracy: 0.8612 - val_loss: 0.3906 - val_accuracy: 0.8613\n",
      "Epoch 4/200\n",
      "3563/3563 [==============================] - 83s 23ms/step - loss: 0.3753 - accuracy: 0.8651 - val_loss: 0.3831 - val_accuracy: 0.8655\n",
      "Epoch 5/200\n",
      "3563/3563 [==============================] - 82s 23ms/step - loss: 0.3654 - accuracy: 0.8697 - val_loss: 0.3798 - val_accuracy: 0.8658\n",
      "Epoch 6/200\n",
      "3563/3563 [==============================] - 83s 23ms/step - loss: 0.3562 - accuracy: 0.8724 - val_loss: 0.3774 - val_accuracy: 0.8665\n",
      "Epoch 7/200\n",
      "3563/3563 [==============================] - 85s 24ms/step - loss: 0.3469 - accuracy: 0.8762 - val_loss: 0.3784 - val_accuracy: 0.8650\n",
      "Epoch 8/200\n",
      "3563/3563 [==============================] - 84s 24ms/step - loss: 0.3395 - accuracy: 0.8791 - val_loss: 0.3797 - val_accuracy: 0.8665\n",
      "Epoch 9/200\n",
      "3563/3563 [==============================] - 84s 24ms/step - loss: 0.3310 - accuracy: 0.8830 - val_loss: 0.3835 - val_accuracy: 0.8673\n",
      "Epoch 10/200\n",
      "3563/3563 [==============================] - 83s 23ms/step - loss: 0.3239 - accuracy: 0.8857 - val_loss: 0.3864 - val_accuracy: 0.8663\n",
      "Epoch 11/200\n",
      "3563/3563 [==============================] - 83s 23ms/step - loss: 0.3161 - accuracy: 0.8886 - val_loss: 0.3893 - val_accuracy: 0.8653\n",
      "Epoch 12/200\n",
      "3563/3563 [==============================] - 83s 23ms/step - loss: 0.3077 - accuracy: 0.8921 - val_loss: 0.3919 - val_accuracy: 0.8655\n",
      "238/238 [==============================] - 5s 9ms/step - loss: 0.3910 - accuracy: 0.8639\n",
      "Test acc: 0.864\n"
     ]
    }
   ],
   "source": [
    "k.clear_session()\n",
    "inputs = tf.keras.Input(shape=(None,), dtype=\"int64\")\n",
    "embedded = layers.Embedding(input_dim=input_dim\n",
    "                            ,output_dim=output_dim\n",
    "                            ,mask_zero=True)(inputs)\n",
    "x = layers.Bidirectional(layers.LSTM(units))(embedded)\n",
    "x = layers.Dropout(dropout)(x)\n",
    "outputs = layers.Dense(4, activation=\"softmax\")(x)\n",
    "model_02 = tf.keras.Model(inputs, outputs)\n",
    "model_02.compile(optimizer=\"rmsprop\",\n",
    "              loss=\"SparseCategoricalCrossentropy\",\n",
    "              metrics=[\"accuracy\"])\n",
    "model_02.summary()\n",
    "\n",
    "callbacks = [\n",
    "    tf.keras.callbacks.ModelCheckpoint(\"LSTM_02_osl_def_od_128.h5\",save_best_only=True)\n",
    "    ,tf.keras.callbacks.EarlyStopping(monitor='val_accuracy', patience=3)\n",
    "]\n",
    "history=model_02.fit(int_train_ds, validation_data=int_val_ds, epochs=200, callbacks=callbacks)\n",
    "model_02 = keras.models.load_model(\"LSTM_02_osl_def_od_128.h5\")\n",
    "print(f\"Test acc: {model_02.evaluate(int_test_ds)[1]:.3f}\")"
   ]
  },
  {
   "cell_type": "code",
   "execution_count": 49,
   "id": "004adbdf",
   "metadata": {},
   "outputs": [
    {
     "data": {
      "text/plain": [
       "dict_keys(['loss', 'accuracy', 'val_loss', 'val_accuracy'])"
      ]
     },
     "execution_count": 49,
     "metadata": {},
     "output_type": "execute_result"
    }
   ],
   "source": [
    "history_dict = history.history\n",
    "history_dict.keys()"
   ]
  },
  {
   "cell_type": "code",
   "execution_count": 50,
   "id": "3e19e6ff",
   "metadata": {},
   "outputs": [
    {
     "data": {
      "text/html": [
       "<div>\n",
       "<style scoped>\n",
       "    .dataframe tbody tr th:only-of-type {\n",
       "        vertical-align: middle;\n",
       "    }\n",
       "\n",
       "    .dataframe tbody tr th {\n",
       "        vertical-align: top;\n",
       "    }\n",
       "\n",
       "    .dataframe thead th {\n",
       "        text-align: right;\n",
       "    }\n",
       "</style>\n",
       "<table border=\"1\" class=\"dataframe\">\n",
       "  <thead>\n",
       "    <tr style=\"text-align: right;\">\n",
       "      <th></th>\n",
       "      <th>loss</th>\n",
       "      <th>accuracy</th>\n",
       "      <th>val_loss</th>\n",
       "      <th>val_accuracy</th>\n",
       "    </tr>\n",
       "  </thead>\n",
       "  <tbody>\n",
       "    <tr>\n",
       "      <th>7</th>\n",
       "      <td>0.340</td>\n",
       "      <td>0.879</td>\n",
       "      <td>0.380</td>\n",
       "      <td>0.867</td>\n",
       "    </tr>\n",
       "    <tr>\n",
       "      <th>8</th>\n",
       "      <td>0.331</td>\n",
       "      <td>0.883</td>\n",
       "      <td>0.384</td>\n",
       "      <td>0.867</td>\n",
       "    </tr>\n",
       "    <tr>\n",
       "      <th>9</th>\n",
       "      <td>0.324</td>\n",
       "      <td>0.886</td>\n",
       "      <td>0.386</td>\n",
       "      <td>0.866</td>\n",
       "    </tr>\n",
       "    <tr>\n",
       "      <th>10</th>\n",
       "      <td>0.316</td>\n",
       "      <td>0.889</td>\n",
       "      <td>0.389</td>\n",
       "      <td>0.865</td>\n",
       "    </tr>\n",
       "    <tr>\n",
       "      <th>11</th>\n",
       "      <td>0.308</td>\n",
       "      <td>0.892</td>\n",
       "      <td>0.392</td>\n",
       "      <td>0.865</td>\n",
       "    </tr>\n",
       "  </tbody>\n",
       "</table>\n",
       "</div>"
      ],
      "text/plain": [
       "     loss  accuracy  val_loss  val_accuracy\n",
       "7   0.340     0.879     0.380         0.867\n",
       "8   0.331     0.883     0.384         0.867\n",
       "9   0.324     0.886     0.386         0.866\n",
       "10  0.316     0.889     0.389         0.865\n",
       "11  0.308     0.892     0.392         0.865"
      ]
     },
     "execution_count": 50,
     "metadata": {},
     "output_type": "execute_result"
    }
   ],
   "source": [
    "losses = history.history['loss']\n",
    "accs = history.history['accuracy']\n",
    "val_losses = history.history['val_loss']\n",
    "val_accs = history.history['val_accuracy']\n",
    "epochs = len(losses)\n",
    "history_df=pd.DataFrame(history_dict)\n",
    "history_df.tail().round(3)"
   ]
  },
  {
   "cell_type": "code",
   "execution_count": 51,
   "id": "761783c8",
   "metadata": {},
   "outputs": [
    {
     "data": {
      "image/png": "[encoded data removed]",
      "text/plain": [
       "<Figure size 1152x864 with 2 Axes>"
      ]
     },
     "metadata": {
      "needs_background": "light"
     },
     "output_type": "display_data"
    }
   ],
   "source": [
    "plt.subplots(figsize=(16,12))\n",
    "plt.tight_layout()\n",
    "display_training_curves(history.history['accuracy'], history.history['val_accuracy'], 'accuracy', 211)\n",
    "display_training_curves(history.history['loss'], history.history['val_loss'], 'loss', 212)"
   ]
  },
  {
   "cell_type": "code",
   "execution_count": 52,
   "id": "35547575",
   "metadata": {},
   "outputs": [
    {
     "name": "stdout",
     "output_type": "stream",
     "text": [
      "238/238 [==============================] - 4s 6ms/step\n"
     ]
    }
   ],
   "source": [
    "y_test = np.concatenate([y for x, y in int_test_ds], axis=0)\n",
    "pred_classes = np.argmax(model_02.predict(int_test_ds), axis=-1)"
   ]
  },
  {
   "cell_type": "code",
   "execution_count": 53,
   "id": "ee8d0b89",
   "metadata": {},
   "outputs": [
    {
     "name": "stdout",
     "output_type": "stream",
     "text": [
      "Classification Report\n",
      "              precision    recall  f1-score   support\n",
      "\n",
      "           0       0.87      0.87      0.87      1900\n",
      "           1       0.90      0.94      0.92      1900\n",
      "           2       0.86      0.81      0.83      1900\n",
      "           3       0.82      0.83      0.83      1900\n",
      "\n",
      "    accuracy                           0.86      7600\n",
      "   macro avg       0.86      0.86      0.86      7600\n",
      "weighted avg       0.86      0.86      0.86      7600\n",
      "\n",
      "Accuracy Score: 0.8640789473684211\n",
      "Root Mean Square Error: 0.6491897784323569\n"
     ]
    }
   ],
   "source": [
    "print_validation_report(y_test, pred_classes)"
   ]
  },
  {
   "cell_type": "code",
   "execution_count": 54,
   "id": "4adea972",
   "metadata": {
    "scrolled": false
   },
   "outputs": [
    {
     "data": {
      "image/png": "[encoded data removed]",
      "text/plain": [
       "<Figure size 1152x864 with 1 Axes>"
      ]
     },
     "metadata": {
      "needs_background": "light"
     },
     "output_type": "display_data"
    }
   ],
   "source": [
    "plot_confusion_matrix(y_test,pred_classes)"
   ]
  },
  {
   "cell_type": "code",
   "execution_count": null,
   "id": "378f909c",
   "metadata": {},
   "outputs": [],
   "source": []
  },
  {
   "cell_type": "code",
   "execution_count": null,
   "id": "7863d4ce",
   "metadata": {},
   "outputs": [],
   "source": []
  },
  {
   "cell_type": "code",
   "execution_count": null,
   "id": "1c8262a8",
   "metadata": {},
   "outputs": [],
   "source": []
  },
  {
   "cell_type": "code",
   "execution_count": null,
   "id": "93d01dd3",
   "metadata": {},
   "outputs": [],
   "source": []
  },
  {
   "cell_type": "markdown",
   "id": "0beed73a",
   "metadata": {},
   "source": [
    "### Experiment 3: LSTM\n",
    "\n",
    "- layers.TextVectorization(output_sequence_length): None (default)\n",
    "- layers.Dropout(dropout): 0.2 (constant)\n",
    "- layers.Bidirectional(layers.LSTM(units)): 32 (constant)\n",
    "- layers.Embedding(output_dim): 256 (VARIABLE)\n",
    "- layers.Embedding(input_dim): 1000 (constant)"
   ]
  },
  {
   "cell_type": "code",
   "execution_count": null,
   "id": "659962b1",
   "metadata": {},
   "outputs": [],
   "source": []
  },
  {
   "cell_type": "code",
   "execution_count": 30,
   "id": "bb2109ff",
   "metadata": {},
   "outputs": [],
   "source": [
    "output_dim = 256 # variable"
   ]
  },
  {
   "cell_type": "code",
   "execution_count": 31,
   "id": "85536a46",
   "metadata": {},
   "outputs": [
    {
     "name": "stdout",
     "output_type": "stream",
     "text": [
      "input_dim: 1000\n",
      "output_dim: 256\n",
      "units: 32\n",
      "dropout: 0.2\n",
      "output_sequence_length: None\n"
     ]
    }
   ],
   "source": [
    "print('input_dim:', input_dim)\n",
    "print('output_dim:', output_dim)\n",
    "print('units:', units)\n",
    "print('dropout:', dropout)\n",
    "print('output_sequence_length:', output_sequence_length)"
   ]
  },
  {
   "cell_type": "code",
   "execution_count": null,
   "id": "4d52d0fb",
   "metadata": {},
   "outputs": [],
   "source": []
  },
  {
   "cell_type": "code",
   "execution_count": 32,
   "id": "c5b66980",
   "metadata": {
    "scrolled": true
   },
   "outputs": [
    {
     "name": "stdout",
     "output_type": "stream",
     "text": [
      "Model: \"model\"\n",
      "_________________________________________________________________\n",
      " Layer (type)                Output Shape              Param #   \n",
      "=================================================================\n",
      " input_1 (InputLayer)        [(None, None)]            0         \n",
      "                                                                 \n",
      " embedding (Embedding)       (None, None, 256)         256000    \n",
      "                                                                 \n",
      " bidirectional (Bidirectiona  (None, 64)               73984     \n",
      " l)                                                              \n",
      "                                                                 \n",
      " dropout (Dropout)           (None, 64)                0         \n",
      "                                                                 \n",
      " dense (Dense)               (None, 4)                 260       \n",
      "                                                                 \n",
      "=================================================================\n",
      "Total params: 330,244\n",
      "Trainable params: 330,244\n",
      "Non-trainable params: 0\n",
      "_________________________________________________________________\n",
      "Epoch 1/200\n",
      "3563/3563 [==============================] - 102s 26ms/step - loss: 0.4564 - accuracy: 0.8377 - val_loss: 0.4105 - val_accuracy: 0.8568\n",
      "Epoch 2/200\n",
      "3563/3563 [==============================] - 90s 25ms/step - loss: 0.4031 - accuracy: 0.8559 - val_loss: 0.4007 - val_accuracy: 0.8592\n",
      "Epoch 3/200\n",
      "3563/3563 [==============================] - 88s 25ms/step - loss: 0.3850 - accuracy: 0.8622 - val_loss: 0.3950 - val_accuracy: 0.8605\n",
      "Epoch 4/200\n",
      "3563/3563 [==============================] - 86s 24ms/step - loss: 0.3732 - accuracy: 0.8665 - val_loss: 0.3961 - val_accuracy: 0.8583\n",
      "Epoch 5/200\n",
      "3563/3563 [==============================] - 87s 24ms/step - loss: 0.3617 - accuracy: 0.8701 - val_loss: 0.3886 - val_accuracy: 0.8620\n",
      "Epoch 6/200\n",
      "3563/3563 [==============================] - 87s 24ms/step - loss: 0.3512 - accuracy: 0.8755 - val_loss: 0.3847 - val_accuracy: 0.8643\n",
      "Epoch 7/200\n",
      "3563/3563 [==============================] - 87s 24ms/step - loss: 0.3402 - accuracy: 0.8783 - val_loss: 0.3855 - val_accuracy: 0.8647\n",
      "Epoch 8/200\n",
      "3563/3563 [==============================] - 88s 25ms/step - loss: 0.3315 - accuracy: 0.8818 - val_loss: 0.3872 - val_accuracy: 0.8640\n",
      "Epoch 9/200\n",
      "3563/3563 [==============================] - 90s 25ms/step - loss: 0.3201 - accuracy: 0.8863 - val_loss: 0.3893 - val_accuracy: 0.8645\n",
      "Epoch 10/200\n",
      "3563/3563 [==============================] - 90s 25ms/step - loss: 0.3093 - accuracy: 0.8904 - val_loss: 0.3963 - val_accuracy: 0.8628\n",
      "238/238 [==============================] - 5s 10ms/step - loss: 0.3997 - accuracy: 0.8588\n",
      "Test acc: 0.859\n"
     ]
    }
   ],
   "source": [
    "k.clear_session()\n",
    "inputs = tf.keras.Input(shape=(None,), dtype=\"int64\")\n",
    "embedded = layers.Embedding(input_dim=input_dim\n",
    "                            ,output_dim=output_dim\n",
    "                            ,mask_zero=True)(inputs)\n",
    "x = layers.Bidirectional(layers.LSTM(units))(embedded)\n",
    "x = layers.Dropout(dropout)(x)\n",
    "outputs = layers.Dense(4, activation=\"softmax\")(x)\n",
    "model_03 = tf.keras.Model(inputs, outputs)\n",
    "model_03.compile(optimizer=\"rmsprop\",\n",
    "              loss=\"SparseCategoricalCrossentropy\",\n",
    "              metrics=[\"accuracy\"])\n",
    "model_03.summary()\n",
    "\n",
    "callbacks = [\n",
    "    tf.keras.callbacks.ModelCheckpoint(\"LSTM_03_osl_DEF_od_256.h5\",save_best_only=True)\n",
    "    ,tf.keras.callbacks.EarlyStopping(monitor='val_accuracy', patience=3)\n",
    "]\n",
    "history=model_03.fit(int_train_ds, validation_data=int_val_ds, epochs=200, callbacks=callbacks)\n",
    "model_03 = keras.models.load_model(\"LSTM_03_osl_DEF_od_256.h5\")\n",
    "print(f\"Test acc: {model_03.evaluate(int_test_ds)[1]:.3f}\")"
   ]
  },
  {
   "cell_type": "code",
   "execution_count": 33,
   "id": "2979bf9a",
   "metadata": {},
   "outputs": [
    {
     "data": {
      "text/plain": [
       "dict_keys(['loss', 'accuracy', 'val_loss', 'val_accuracy'])"
      ]
     },
     "execution_count": 33,
     "metadata": {},
     "output_type": "execute_result"
    }
   ],
   "source": [
    "history_dict = history.history\n",
    "history_dict.keys()"
   ]
  },
  {
   "cell_type": "code",
   "execution_count": 34,
   "id": "133ec190",
   "metadata": {},
   "outputs": [
    {
     "data": {
      "text/html": [
       "<div>\n",
       "<style scoped>\n",
       "    .dataframe tbody tr th:only-of-type {\n",
       "        vertical-align: middle;\n",
       "    }\n",
       "\n",
       "    .dataframe tbody tr th {\n",
       "        vertical-align: top;\n",
       "    }\n",
       "\n",
       "    .dataframe thead th {\n",
       "        text-align: right;\n",
       "    }\n",
       "</style>\n",
       "<table border=\"1\" class=\"dataframe\">\n",
       "  <thead>\n",
       "    <tr style=\"text-align: right;\">\n",
       "      <th></th>\n",
       "      <th>loss</th>\n",
       "      <th>accuracy</th>\n",
       "      <th>val_loss</th>\n",
       "      <th>val_accuracy</th>\n",
       "    </tr>\n",
       "  </thead>\n",
       "  <tbody>\n",
       "    <tr>\n",
       "      <th>5</th>\n",
       "      <td>0.351</td>\n",
       "      <td>0.875</td>\n",
       "      <td>0.385</td>\n",
       "      <td>0.864</td>\n",
       "    </tr>\n",
       "    <tr>\n",
       "      <th>6</th>\n",
       "      <td>0.340</td>\n",
       "      <td>0.878</td>\n",
       "      <td>0.385</td>\n",
       "      <td>0.865</td>\n",
       "    </tr>\n",
       "    <tr>\n",
       "      <th>7</th>\n",
       "      <td>0.332</td>\n",
       "      <td>0.882</td>\n",
       "      <td>0.387</td>\n",
       "      <td>0.864</td>\n",
       "    </tr>\n",
       "    <tr>\n",
       "      <th>8</th>\n",
       "      <td>0.320</td>\n",
       "      <td>0.886</td>\n",
       "      <td>0.389</td>\n",
       "      <td>0.864</td>\n",
       "    </tr>\n",
       "    <tr>\n",
       "      <th>9</th>\n",
       "      <td>0.309</td>\n",
       "      <td>0.890</td>\n",
       "      <td>0.396</td>\n",
       "      <td>0.863</td>\n",
       "    </tr>\n",
       "  </tbody>\n",
       "</table>\n",
       "</div>"
      ],
      "text/plain": [
       "    loss  accuracy  val_loss  val_accuracy\n",
       "5  0.351     0.875     0.385         0.864\n",
       "6  0.340     0.878     0.385         0.865\n",
       "7  0.332     0.882     0.387         0.864\n",
       "8  0.320     0.886     0.389         0.864\n",
       "9  0.309     0.890     0.396         0.863"
      ]
     },
     "execution_count": 34,
     "metadata": {},
     "output_type": "execute_result"
    }
   ],
   "source": [
    "losses = history.history['loss']\n",
    "accs = history.history['accuracy']\n",
    "val_losses = history.history['val_loss']\n",
    "val_accs = history.history['val_accuracy']\n",
    "epochs = len(losses)\n",
    "history_df=pd.DataFrame(history_dict)\n",
    "history_df.tail().round(3)"
   ]
  },
  {
   "cell_type": "code",
   "execution_count": 35,
   "id": "a22f6b13",
   "metadata": {},
   "outputs": [
    {
     "data": {
      "image/png": "[encoded data removed]",
      "text/plain": [
       "<Figure size 1152x864 with 2 Axes>"
      ]
     },
     "metadata": {
      "needs_background": "light"
     },
     "output_type": "display_data"
    }
   ],
   "source": [
    "plt.subplots(figsize=(16,12))\n",
    "plt.tight_layout()\n",
    "display_training_curves(history.history['accuracy'], history.history['val_accuracy'], 'accuracy', 211)\n",
    "display_training_curves(history.history['loss'], history.history['val_loss'], 'loss', 212)"
   ]
  },
  {
   "cell_type": "code",
   "execution_count": 36,
   "id": "e5c61555",
   "metadata": {},
   "outputs": [
    {
     "name": "stdout",
     "output_type": "stream",
     "text": [
      "238/238 [==============================] - 5s 8ms/step\n"
     ]
    }
   ],
   "source": [
    "y_test = np.concatenate([y for x, y in int_test_ds], axis=0)\n",
    "pred_classes = np.argmax(model_03.predict(int_test_ds), axis=-1)"
   ]
  },
  {
   "cell_type": "code",
   "execution_count": 37,
   "id": "8e37af58",
   "metadata": {},
   "outputs": [
    {
     "name": "stdout",
     "output_type": "stream",
     "text": [
      "Classification Report\n",
      "              precision    recall  f1-score   support\n",
      "\n",
      "           0       0.86      0.87      0.87      1900\n",
      "           1       0.91      0.94      0.92      1900\n",
      "           2       0.85      0.81      0.83      1900\n",
      "           3       0.83      0.83      0.83      1900\n",
      "\n",
      "    accuracy                           0.86      7600\n",
      "   macro avg       0.86      0.86      0.86      7600\n",
      "weighted avg       0.86      0.86      0.86      7600\n",
      "\n",
      "Accuracy Score: 0.8628947368421053\n",
      "Root Mean Square Error: 0.6582472739664104\n"
     ]
    }
   ],
   "source": [
    "print_validation_report(y_test, pred_classes)"
   ]
  },
  {
   "cell_type": "code",
   "execution_count": 38,
   "id": "3966b26a",
   "metadata": {
    "scrolled": false
   },
   "outputs": [
    {
     "data": {
      "image/png": "[encoded data removed]",
      "text/plain": [
       "<Figure size 1152x864 with 1 Axes>"
      ]
     },
     "metadata": {
      "needs_background": "light"
     },
     "output_type": "display_data"
    }
   ],
   "source": [
    "plot_confusion_matrix(y_test,pred_classes)"
   ]
  },
  {
   "cell_type": "code",
   "execution_count": null,
   "id": "d8cfa3be",
   "metadata": {},
   "outputs": [],
   "source": []
  },
  {
   "cell_type": "code",
   "execution_count": null,
   "id": "aca4f5e1",
   "metadata": {},
   "outputs": [],
   "source": []
  },
  {
   "cell_type": "code",
   "execution_count": null,
   "id": "46c6b22e",
   "metadata": {},
   "outputs": [],
   "source": []
  },
  {
   "cell_type": "code",
   "execution_count": null,
   "id": "caa1d60a",
   "metadata": {},
   "outputs": [],
   "source": []
  },
  {
   "cell_type": "code",
   "execution_count": null,
   "id": "270282c8",
   "metadata": {},
   "outputs": [],
   "source": []
  },
  {
   "cell_type": "code",
   "execution_count": null,
   "id": "57b43a49",
   "metadata": {},
   "outputs": [],
   "source": []
  },
  {
   "cell_type": "code",
   "execution_count": null,
   "id": "137ce6bb",
   "metadata": {},
   "outputs": [],
   "source": []
  },
  {
   "cell_type": "code",
   "execution_count": null,
   "id": "5b3fe9bb",
   "metadata": {},
   "outputs": [],
   "source": []
  },
  {
   "cell_type": "code",
   "execution_count": null,
   "id": "77f3580a",
   "metadata": {},
   "outputs": [],
   "source": []
  },
  {
   "cell_type": "code",
   "execution_count": null,
   "id": "7cabd07b",
   "metadata": {},
   "outputs": [],
   "source": []
  },
  {
   "cell_type": "code",
   "execution_count": null,
   "id": "b1f6c4de",
   "metadata": {},
   "outputs": [],
   "source": []
  },
  {
   "cell_type": "code",
   "execution_count": null,
   "id": "51b8b0e8",
   "metadata": {},
   "outputs": [],
   "source": []
  },
  {
   "cell_type": "code",
   "execution_count": null,
   "id": "1f69947c",
   "metadata": {},
   "outputs": [],
   "source": []
  },
  {
   "cell_type": "code",
   "execution_count": null,
   "id": "63ca4b71",
   "metadata": {},
   "outputs": [],
   "source": []
  }
 ],
 "metadata": {
  "kernelspec": {
   "display_name": "Python 3 (ipykernel)",
   "language": "python",
   "name": "python3"
  },
  "language_info": {
   "codemirror_mode": {
    "name": "ipython",
    "version": 3
   },
   "file_extension": ".py",
   "mimetype": "text/x-python",
   "name": "python",
   "nbconvert_exporter": "python",
   "pygments_lexer": "ipython3",
   "version": "3.9.12"
  }
 },
 "nbformat": 4,
 "nbformat_minor": 5
}
